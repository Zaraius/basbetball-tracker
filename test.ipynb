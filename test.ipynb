{
 "cells": [
  {
   "cell_type": "markdown",
   "id": "02af94ac",
   "metadata": {},
   "source": [
    "Tape measure\n",
    "aruco tags\n",
    "tripod\n",
    "checkboard"
   ]
  },
  {
   "cell_type": "markdown",
   "id": "e4eeee85",
   "metadata": {},
   "source": [
    "Steps: \n",
    "Get a video - Together\n",
    "Calibration - Satchel\n",
    "Create a mask for finding ball - Zaraius\n",
    "Create a yolo model for finding ball -  Satchel\n",
    "Use mask for find position - Zaraius\n",
    "Use bounding box for finding position - Zaraius\n",
    "Connect frame by frame position to get velocity (SORT) - Satchel\n",
    "\n",
    "Find size to depth research\n",
    "hough transform\n",
    "Once you've detected center of the ball, edge segmentation or line detector"
   ]
  },
  {
   "cell_type": "code",
   "execution_count": 1,
   "id": "cb8b5444",
   "metadata": {},
   "outputs": [],
   "source": [
    "import cv2\n",
    "\n",
    "video_path = 'ball.mp4'\n",
    "cap = cv2.VideoCapture(video_path)\n",
    "\n",
    "if not cap.isOpened():\n",
    "    print(\"Error: Could not open video file.\")\n",
    "else:\n",
    "    while True:\n",
    "        ret, frame = cap.read()\n",
    "        if not ret:\n",
    "            break\n",
    "\n",
    "        cv2.imshow('Video', frame) # Display the frame in a window\n",
    "\n",
    "        if cv2.waitKey(25) & 0xFF == ord('q'): # Press 'q' to exit\n",
    "            break\n",
    "\n",
    "    cap.release()\n",
    "    cv2.destroyAllWindows()"
   ]
  }
 ],
 "metadata": {
  "kernelspec": {
   "display_name": "venv",
   "language": "python",
   "name": "python3"
  },
  "language_info": {
   "codemirror_mode": {
    "name": "ipython",
    "version": 3
   },
   "file_extension": ".py",
   "mimetype": "text/x-python",
   "name": "python",
   "nbconvert_exporter": "python",
   "pygments_lexer": "ipython3",
   "version": "3.12.3"
  }
 },
 "nbformat": 4,
 "nbformat_minor": 5
}
